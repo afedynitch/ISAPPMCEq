{
 "cells": [
  {
   "cell_type": "markdown",
   "metadata": {},
   "source": [
    "Exercise I\n",
    "--------------\n",
    "\n",
    "    a) Plot muon or neutrino spectrum as a function of the zenith angle and save plot as png files\n",
    "    opt) compare the zenith denpendence for two interaction models 'SIBYLL-2.3c' and 'EPOS-LHC' for example\n",
    "    \n",
    "We will plot the total fluxes of muons. Muons carry the tags 'total_mu+ and 'total_mu-'. You can also plot the neutrino fluxes with 'total_numu' and 'total_antinumu', respectively."
   ]
  },
  {
   "cell_type": "code",
   "execution_count": 1,
   "metadata": {},
   "outputs": [],
   "source": [
    "#usual imports and jupyter setup\n",
    "%load_ext autoreload\n",
    "%matplotlib inline\n",
    "%autoreload 2\n",
    "import os\n",
    "import matplotlib.pyplot as plt\n",
    "import numpy as np\n",
    "\n",
    "# Path to MCEq. Can be uncommented if in PYTHONPATH\n",
    "import sys\n",
    "sys.path.append('../MCEq/')\n",
    "\n",
    "#import solver related modules\n",
    "from MCEq.core import MCEqRun\n",
    "from mceq_config import config\n",
    "#import primary model choices\n",
    "import CRFluxModels as pm"
   ]
  },
  {
   "cell_type": "markdown",
   "metadata": {},
   "source": [
    "Initialize main class as user interface\n",
    "---------------------------------\n",
    "``MCEqRun`` is main control class. It glues together the involved models and is the **recommended and supported way** to interact with the code."
   ]
  },
  {
   "cell_type": "code",
   "execution_count": null,
   "metadata": {},
   "outputs": [
    {
     "name": "stdout",
     "output_type": "stream",
     "text": [
      "InteractionYields::_load(): Looking for /mnt/c/Users/afedy/OneDrive/devel/git/MCEq/data/SIBYLL23C_yields_compact_ledpm.bz2\n",
      "DecayYields:_load():: Loading file /mnt/c/Users/afedy/OneDrive/devel/git/MCEq/data/compact_decay_tables.ppd\n",
      "\n",
      "Hadrons and stable particles:\n",
      "\n",
      "\"p\", \"p-bar\", \"n-bar\", \"n\"\n",
      "\n",
      "Mixed:\n",
      "\n",
      "\"pi-\", \"pi+\", \"K0L\", \"K-\", \"K+\", \"Lambda0\", \"Lambda0-bar\", \"K0S\", \n",
      "\"D+\", \"D-\", \"Ds+\", \"Ds-\", \"D0\", \"D0-bar\"\n",
      "\n",
      "Resonances:\n",
      "\n",
      "\n",
      "\n",
      "Leptons:\n",
      "\n",
      "\"e-\", \"nue\", \"numu\", \"nutau\", \"gamma\", \"antinutau\", \"antinumu\", \"antinue\", \n",
      "\"e+\", \"mu-\", \"mu+\"\n",
      "\n",
      "Aliases:\n",
      "\"obs_numu\", \"obs_nutau\", \"pr_antinutau\", \"pr_antinumu\", \"pr_antinue\", \"obs_antinue\", \"k_nue\", \"k_numu\", \n",
      "\"k_nutau\", \"pi_antinutau\", \"pi_antinue\", \"pi_antinumu\", \"pi_nue\", \"pi_numu\", \"pi_nutau\", \"k_antinutau\", \n",
      "\"k_antinumu\", \"k_antinue\", \"obs_nue\", \"pr_nue\", \"pr_numu\", \"pr_nutau\", \"obs_antinutau\", \"obs_antinumu\", \n",
      "\"k_mu-\", \"obs_mu-\", \"pr_mu+\", \"pi_mu+\", \"pi_mu-\", \"k_mu+\", \"pr_mu-\", \"obs_mu+\"\n",
      "\n",
      "Total number of species: 61\n",
      "MCEqRun::set_interaction_model():  SIBYLL23C\n",
      "InteractionYields:set_interaction_model():: Model SIBYLL23C already loaded.\n",
      "InteractionYields:set_interaction_model():: Model SIBYLL23C already loaded.\n",
      "MCEqRun::_init_default_matrices():Start filling matrices. Skip_D_matrix = False\n"
     ]
    }
   ],
   "source": [
    "mceq_run = MCEqRun(\n",
    "\n",
    "#provide the string of the interaction model (browse ./data/ folder for what else is supported)\n",
    "interaction_model='SIBYLL2.3c',\n",
    "    \n",
    "#primary cosmic ray flux model. We will compute the cosmic ray flux in the atmosphere\n",
    "primary_model = (pm.HillasGaisser2012, \"H3a\"),\n",
    "\n",
    "# Default zenith angle in degrees. 0=vertical, 90=horizontal\n",
    "theta_deg=0.0,\n",
    "    \n",
    "#expand the rest of the options from mceq_config.py\n",
    "**config\n",
    ")"
   ]
  },
  {
   "cell_type": "markdown",
   "metadata": {},
   "source": [
    "__________\n",
    "\n",
    "If everything succeeds than the last message should be something like\n",
    "\n",
    "`MCEqRun::set_primary_model():  HillasGaisser2012 H3a`.\n",
    "\n",
    "Define variables and angles\n",
    "-------------------------"
   ]
  },
  {
   "cell_type": "markdown",
   "metadata": {},
   "source": [
    "Modify the `theta_list` to incude more zenith angles"
   ]
  },
  {
   "cell_type": "code",
   "execution_count": 24,
   "metadata": {},
   "outputs": [],
   "source": [
    "#Power of energy to scale the flux (the results will be returned as E**mag * flux)\n",
    "mag = 3\n",
    "\n",
    "#obtain energy grid (fixed) of the solution for the x-axis of the plots\n",
    "e_grid = mceq_run.e_grid\n",
    "\n",
    "#Dictionary for results\n",
    "flux = {}\n",
    "\n",
    "#Define a zenith angle, counted positively from vertical direction. Theta = 0. means vertical, theta = 90. horizontal\n",
    "theta_list = [60.]"
   ]
  },
  {
   "cell_type": "markdown",
   "metadata": {},
   "source": [
    "Modify the computation below to also store the *conventional* and the *prompt* fluxes"
   ]
  },
  {
   "cell_type": "code",
   "execution_count": 29,
   "metadata": {},
   "outputs": [
    {
     "name": "stdout",
     "output_type": "stream",
     "text": [
      "MCEqRun::set_theta_deg():  60.0\n",
      "Theta selection correponds to cached value, skipping calc.\n",
      "MCEqRun::_forward_euler(): Solver will perform 727 integration steps.\n",
      "Performance:   0.76ms/iteration\n",
      "\n",
      "MCEqRun::_forward_euler(): time elapsed during integration: 0.553387880325 sec\n"
     ]
    }
   ],
   "source": [
    "total_flux_zen = []\n",
    "for zenith_angle in theta_list:\n",
    "    \n",
    "    #Set the zenith angle\n",
    "    mceq_run.set_theta_deg(zenith_angle)\n",
    "    \n",
    "    #Run the solve cascade equations\n",
    "    mceq_run.solve()\n",
    "    \n",
    "#     #_conv means conventional (mostly pions and kaons)\n",
    "#     mu_conv = (mceq_run.get_solution('conv_mu+', mag)\n",
    "#                + mceq_run.get_solution('conv_mu-', mag))\n",
    "\n",
    "#     # _pr means prompt (the mother of the muon had a critical energy\n",
    "#     # higher or equal to that of a D meson. Includes all charm and direct resonance\n",
    "#     # contribution)\n",
    "#     mu_pr = (mceq_run.get_solution('pr_mu+', mag)\n",
    "#              + mceq_run.get_solution('pr_mu-', mag))\n",
    "\n",
    "#     # total means conventional + prompt\n",
    "#     mu_total = (mceq_run.get_solution('total_mu+', mag)\n",
    "#                 + mceq_run.get_solution('total_mu-', mag))\n",
    "    \n",
    "    total_flux_zen.append((mceq_run.get_solution('total_mu+', mag)\n",
    "                           + mceq_run.get_solution('total_mu-', mag)))"
   ]
  },
  {
   "cell_type": "code",
   "execution_count": 30,
   "metadata": {},
   "outputs": [
    {
     "data": {
      "image/png": "[encoded data removed]",
      "text/plain": [
       "<Figure size 324x252 with 1 Axes>"
      ]
     },
     "metadata": {},
     "output_type": "display_data"
    }
   ],
   "source": [
    "# This is just for fancy colors\n",
    "from matplotlib import cm\n",
    "from matplotlib.colors import Normalize\n",
    "norm = Normalize(-50,90)\n",
    "s_m = cm.ScalarMappable(cmap=cm.Blues, norm=norm)\n",
    "s_m.set_array([])\n",
    "\n",
    "# Setup canvas and some options\n",
    "fig, ax = plt.subplots(1,1,figsize=(4.5,3.5))\n",
    "st = {'lw':1.2, 'alpha':0.9}\n",
    "\n",
    "#Loop over the angles defined in theta_list (above)\n",
    "for it, t in enumerate(theta_list):\n",
    "    #Plot the total flux\n",
    "    ax.loglog(mceq_run.e_grid, total_flux_zen[it],color=s_m.to_rgba(t),\n",
    "              label='total' if it == 0 else '_nolabel_',ls='-',**st)\n",
    "    \n",
    "    # Modify these lines to plot the conventional and prompt flux separtely\n",
    "    \n",
    "#     ax.loglog(mceq_run.e_grid, XXX_flux_zen[it],color=s_m.to_rgba(t),\n",
    "#               label='conventional' if t == 90. else '_nolabel_',ls='-.',**st)\n",
    "#     ax.loglog(mceq_run.e_grid, XXX_flux_zen[it],color=s_m.to_rgba(t),\n",
    "#               label='prompt' if t == 90. else '_nolabel_',ls='--',**st)\n",
    "\n",
    "ax.set_ylabel(r\"$E^3\\ \\Phi_{\\mu}$ (GeV$^{2}$ cm$^{-2}$ s$^{-1}$ sr$^{-1}$)\")\n",
    "ax.set_xlabel(r'Muon energy (GeV)')\n",
    "\n",
    "ax.text(0.8,0.66,r'$\\theta =$',color='k',transform = ax.transAxes)\n",
    "for it, t in enumerate(theta_list):\n",
    "    ax.text(0.84,0.58 - it*0.072,r'{0:3.1f}$^\\circ$'.format(t), \n",
    "            color=s_m.to_rgba(t),transform = ax.transAxes)\n",
    "ax.text(0.05,0.9,r'$\\mu^+ + \\mu^-$',color='k',fontsize=14,transform = ax.transAxes)\n",
    "ax.legend(loc='upper right')\n",
    "ax.set_xlim(1e1,1e9)\n",
    "ax.set_ylim(1e-5,2e0)\n",
    "\n",
    "plt.tight_layout()\n",
    "\n",
    "plt.savefig('muon_angular_spectrum.png',dpi=300)"
   ]
  },
  {
   "cell_type": "markdown",
   "metadata": {},
   "source": [
    "## Changing the interaction model\n",
    "\n",
    "Now change the interaction model and produce another set of plots (or if you know Python well, overlay both models with different colors).\n",
    "\n",
    "The below function allows you to switch the interaction models."
   ]
  },
  {
   "cell_type": "code",
   "execution_count": 28,
   "metadata": {},
   "outputs": [
    {
     "name": "stdout",
     "output_type": "stream",
     "text": [
      "MCEqRun::set_interaction_model():  EPOSLHC\n",
      "InteractionYields::_load(): Looking for /mnt/c/Users/afedy/OneDrive/devel/git/MCEq/data/EPOSLHC_yields_compact_ledpm.bz2\n",
      "MCEqRun::_init_default_matrices():Start filling matrices. Skip_D_matrix = True\n",
      "MCEqRun::_convert_to_sparse():Converting to sparse (CSR) matrix format.\n",
      "C Matrix info:\n",
      "    density    : 2.65%\n",
      "    shape      : 5368 x 5368\n",
      "    nnz        : 763345\n",
      "D Matrix info:\n",
      "    density    : 1.10%\n",
      "    shape      : 5368 x 5368\n",
      "    nnz        : 317709\n",
      "MCEqRun::_init_default_matrices():Done filling matrices.\n"
     ]
    }
   ],
   "source": [
    "# mceq_run.set_interaction_model('SIBYLL2.3c')\n",
    "mceq_run.set_interaction_model('EPOS-LHC')"
   ]
  },
  {
   "cell_type": "code",
   "execution_count": null,
   "metadata": {},
   "outputs": [],
   "source": []
  }
 ],
 "metadata": {
  "kernelspec": {
   "display_name": "Python 2",
   "language": "python",
   "name": "python2"
  },
  "language_info": {
   "codemirror_mode": {
    "name": "ipython",
    "version": 2
   },
   "file_extension": ".py",
   "mimetype": "text/x-python",
   "name": "python",
   "nbconvert_exporter": "python",
   "pygments_lexer": "ipython2",
   "version": "2.7.15"
  }
 },
 "nbformat": 4,
 "nbformat_minor": 2
}
